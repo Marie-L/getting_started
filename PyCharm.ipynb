{
 "cells": [
  {
   "cell_type": "markdown",
   "metadata": {},
   "source": [
    "# Install PyCharm"
   ]
  },
  {
   "cell_type": "markdown",
   "metadata": {},
   "source": [
    "PyCharm is a cross-platform IDE that provides consistent experience on the Windows, macOS, and Linux operating systems. PyCharm is available in three editions: **Professional**, **Community**, and **Edu**. The **Community** and **Edu** editions are open-source projects and they are free, but they have less features. \n",
    "\n",
    "- [Edition comparison](https://www.jetbrains.com/pycharm/features/editions_comparison_matrix.html)"
   ]
  },
  {
   "cell_type": "markdown",
   "metadata": {},
   "source": [
    "Download PyCharm [Community Edition](https://www.jetbrains.com/pycharm/download/#section=mac). When you run PyCharm for the first time, some steps are required to complete the installation, customize your instance, and start working with the IDE.\n",
    "\n",
    "- Find PyCharm in the Start menu or use the desktop shortcut, if it was created during installation. You can also run pycharm.bat in the installation directory under bin.\n",
    "\n",
    "- Select the user interface theme either the default Darcula or Light theme.\n",
    "\n",
    "- If necessary, download and install additional plugins that are not bundled with the IDE from the [PyCharm plugins repository](https://plugins.jetbrains.com/idea?_ga=2.86449880.1114000720.1592948515-240589320.1592948515)"
   ]
  },
  {
   "cell_type": "markdown",
   "metadata": {},
   "source": [
    "## Start a project in PyCharm\n",
    "\n",
    "On the Welcome screen, you can do the following:\n",
    "\n",
    "- Open an existing project\n",
    "- Check out an existing project from Version Control\n",
    "- Create a new project\n",
    "- Create a new project\n",
    "- Open an existing project or file\n",
    "- Check out an existing project from a version control system"
   ]
  },
  {
   "cell_type": "markdown",
   "metadata": {},
   "source": [
    "### Creating a Python project"
   ]
  },
  {
   "cell_type": "markdown",
   "metadata": {},
   "source": [
    "if you’re on the Welcome screen, click Create New Project. If you’ve already got a project open, choose File | New Project."
   ]
  },
  {
   "cell_type": "markdown",
   "metadata": {},
   "source": [
    "1. Choose the project location. To do that, click the Browse button button next to the Location field, and specify the directory for your project. Python best practice is to create a **virtualenv** for each project. To do that, expand the **Project Interpreter: New Virtualenv Environment** node and select a tool used to create a new virtual environment. \n",
    "1. When configuring the **base interpreter**, you need to specify the path to the Python executable. If PyCharm detects no Python on your machine, it provides two options: to download the latest Python versions from `python.org` or to specify a path to the Python executable (in case of non-standard installation).\n",
    "1. Then click the **Create** button at the bottom of the New Project dialog.\n",
    "\n",
    "Create a Python file by selecting the project root in the **Project** tool window, then select **File | New ...** from the main menu or press `⌘N`."
   ]
  },
  {
   "cell_type": "code",
   "execution_count": null,
   "metadata": {},
   "outputs": [
    {
     "name": "stdout",
     "output_type": "stream",
     "text": [
      "I'm a car!\n",
      "What should I do? [A]ccelerate, [B]rake, show [O]dometer, or show average [S]peed?A\n",
      "I'm going 5 kph!\n",
      "What should I do? [A]ccelerate, [B]rake, show [O]dometer, or show average [S]peed?B\n",
      "I'm going 0 kph!\n",
      "What should I do? [A]ccelerate, [B]rake, show [O]dometer, or show average [S]peed?S\n",
      "The car's average speed was 2.5 kph\n",
      "I'm going 0 kph!\n"
     ]
    }
   ],
   "source": [
    "# test file script\n",
    "\n",
    "class Car:\n",
    "\n",
    "    def __init__(self, speed=0):\n",
    "        self.speed = speed\n",
    "        self.odometer = 0\n",
    "        self.time = 0\n",
    "\n",
    "    def say_state(self):\n",
    "        print(\"I'm going {} kph!\".format(self.speed))\n",
    "\n",
    "    def accelerate(self):\n",
    "        self.speed += 5\n",
    "\n",
    "    def brake(self):\n",
    "        self.speed -= 5\n",
    "\n",
    "    def step(self):\n",
    "        self.odometer += self.speed\n",
    "        self.time += 1\n",
    "\n",
    "    def average_speed(self):\n",
    "        if self.time != 0:\n",
    "            return self.odometer / self.time\n",
    "        else:\n",
    "            pass\n",
    "\n",
    "\n",
    "if __name__ == '__main__':\n",
    "\n",
    "    my_car = Car()\n",
    "    print(\"I'm a car!\")\n",
    "    while True:\n",
    "        action = input(\"What should I do? [A]ccelerate, [B]rake, \"\n",
    "                 \"show [O]dometer, or show average [S]peed?\").upper()\n",
    "        if action not in \"ABOS\" or len(action) != 1:\n",
    "            print(\"I don't know how to do that\")\n",
    "            continue\n",
    "        if action == 'A':\n",
    "            my_car.accelerate()\n",
    "        elif action == 'B':\n",
    "            my_car.brake()\n",
    "        elif action == 'O':\n",
    "            print(\"The car has driven {} kilometers\".format(my_car.odometer))\n",
    "        elif action == 'S':\n",
    "            print(\"The car's average speed was {} kph\".format(my_car.average_speed()))\n",
    "        my_car.step()\n",
    "        my_car.say_state()\n",
    "        "
   ]
  },
  {
   "cell_type": "markdown",
   "metadata": {},
   "source": [
    "### Debugging"
   ]
  },
  {
   "cell_type": "markdown",
   "metadata": {},
   "source": [
    "We can use the PyCharm debugger to see exactly what’s happening in our code. To start debugging, you have to set some breakpoints first. \n",
    "1. To create breakpoints, just click in the gutter\n",
    "\n",
    "1. Next, click the **play** icon in the gutter, next to the main clause, and choose the object you want to debug. PyCharm starts a debugging session and shows the Debug tool window.\n",
    "\n",
    "For more info: [debugging in PyCharm](https://www.jetbrains.com/help/pycharm/debugging-your-first-python-application.html?keymap=secondary_macos#where-is-the-problem)"
   ]
  },
  {
   "cell_type": "code",
   "execution_count": null,
   "metadata": {},
   "outputs": [],
   "source": []
  }
 ],
 "metadata": {
  "kernelspec": {
   "display_name": "Python 3",
   "language": "python",
   "name": "python3"
  },
  "language_info": {
   "codemirror_mode": {
    "name": "ipython",
    "version": 3
   },
   "file_extension": ".py",
   "mimetype": "text/x-python",
   "name": "python",
   "nbconvert_exporter": "python",
   "pygments_lexer": "ipython3",
   "version": "3.7.6"
  }
 },
 "nbformat": 4,
 "nbformat_minor": 4
}
