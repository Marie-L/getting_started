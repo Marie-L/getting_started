{
 "cells": [
  {
   "cell_type": "markdown",
   "metadata": {},
   "source": [
    "# Install Jupyter Notebooks"
   ]
  },
  {
   "cell_type": "markdown",
   "metadata": {},
   "source": [
    "Download [Anaconda3](https://docs.anaconda.com/anaconda/install/mac-os/). Anaconda Individual Edition contains conda and Anaconda Navigator, as well as Python and hundreds of scientific packages. "
   ]
  },
  {
   "cell_type": "markdown",
   "metadata": {},
   "source": [
    "- To launch Anaconda Navigator, open terminal and run `anaconda-navigator`. The navigator home tab will appear.\n",
    "- To launch Jupyter Notebooks directly, open terminal, `cd any-jupyter-dir`, then run `jupyter notebook`\n",
    "\n",
    "[gee]"
   ]
  },
  {
   "cell_type": "code",
   "execution_count": null,
   "metadata": {},
   "outputs": [],
   "source": []
  }
 ],
 "metadata": {
  "kernelspec": {
   "display_name": "Python 3",
   "language": "python",
   "name": "python3"
  },
  "language_info": {
   "codemirror_mode": {
    "name": "ipython",
    "version": 3
   },
   "file_extension": ".py",
   "mimetype": "text/x-python",
   "name": "python",
   "nbconvert_exporter": "python",
   "pygments_lexer": "ipython3",
   "version": "3.7.6"
  }
 },
 "nbformat": 4,
 "nbformat_minor": 4
}
